{
 "cells": [
  {
   "cell_type": "markdown",
   "metadata": {},
   "source": [
    "## Batch Normalization\n",
    "***\n",
    "***\n",
    "Time: 2020-09-13<br>\n",
    "Author: dsy\n",
    "***"
   ]
  },
  {
   "cell_type": "markdown",
   "metadata": {},
   "source": [
    "$$\n",
    "\\begin{aligned}\n",
    "   \\mu & = \\frac{1}{m} \\sum_{i=1}^{m}x_i \\\\\n",
    "    \\delta^2 & =\\frac{1}{m}\\sum_{i=1}^{m} (x_i-\\mu)^2 \\\\\n",
    "    \\widehat{x} & = \\frac{x_i - \\mu}{\\sqrt{\\delta^2+\\varepsilon}} \\\\\n",
    "    y_i & = \\gamma \\widehat{x_i} + \\beta \n",
    "\\end{aligned}\n",
    "$$"
   ]
  },
  {
   "cell_type": "code",
   "execution_count": 1,
   "metadata": {},
   "outputs": [],
   "source": [
    "import torch \n",
    "import torch.nn as nn"
   ]
  },
  {
   "cell_type": "code",
   "execution_count": 2,
   "metadata": {},
   "outputs": [],
   "source": [
    "class BatchNorm(nn.Module):\n",
    "    def __init__(self):\n",
    "        super(BatchNorm,self).__init__()\n",
    "\n",
    "    def forward(self,x,ε=torch.FloatTensor([1e-5])):\n",
    "        m,n = x.shape\n",
    "        γ = torch.ones((n,),requires_grad=True)\n",
    "        β = torch.zeros((n,),requires_grad=True)\n",
    "\n",
    "        μ = x.mean(0)\n",
    "        δ2 = x.var(unbiased=False,dim=0)\n",
    "\n",
    "        x_  = torch.zeros((m,n),requires_grad=False)\n",
    "\n",
    "#         for i in range(m):\n",
    "#             for j in range(n):\n",
    "#                 x_[i][j] = (x[i][j] - μ[i]) / torch.sqrt(δ2 + ε)[i]\n",
    "\n",
    "        x_hat= (x-μ)/torch.sqrt(δ2+ε)\n",
    "\n",
    "        y = γ * x_hat + β\n",
    "        \n",
    "#         y.backward()\n",
    "\n",
    "        return y"
   ]
  },
  {
   "cell_type": "code",
   "execution_count": 3,
   "metadata": {},
   "outputs": [],
   "source": [
    "X= torch.randn(20,2)"
   ]
  },
  {
   "cell_type": "code",
   "execution_count": 4,
   "metadata": {},
   "outputs": [
    {
     "data": {
      "text/plain": [
       "tensor([[-0.2926,  0.2523],\n",
       "        [-1.4815, -0.2971],\n",
       "        [ 1.4544, -0.0985],\n",
       "        [ 1.6479, -0.0545],\n",
       "        [ 0.3333, -0.2671],\n",
       "        [ 0.0955, -1.0300],\n",
       "        [ 1.6951,  0.1037],\n",
       "        [ 0.3463, -0.1913],\n",
       "        [ 0.7887,  0.2467],\n",
       "        [-1.2928, -1.1749],\n",
       "        [-1.2064,  0.1153],\n",
       "        [-0.3509,  0.6386],\n",
       "        [ 0.5382,  0.3538],\n",
       "        [-0.8852, -0.4196],\n",
       "        [ 0.2614,  1.5141],\n",
       "        [-1.1400,  2.2675],\n",
       "        [-1.2250, -2.3851],\n",
       "        [-0.3511,  1.1404],\n",
       "        [ 1.3296, -1.3095],\n",
       "        [-0.2650,  0.5954]], grad_fn=<AddBackward0>)"
      ]
     },
     "execution_count": 4,
     "metadata": {},
     "output_type": "execute_result"
    }
   ],
   "source": [
    "bn = BatchNorm()\n",
    "bn(X)"
   ]
  },
  {
   "cell_type": "code",
   "execution_count": 5,
   "metadata": {},
   "outputs": [
    {
     "data": {
      "text/plain": [
       "tensor([[-0.2926,  0.2523],\n",
       "        [-1.4815, -0.2971],\n",
       "        [ 1.4544, -0.0985],\n",
       "        [ 1.6479, -0.0545],\n",
       "        [ 0.3333, -0.2671],\n",
       "        [ 0.0955, -1.0300],\n",
       "        [ 1.6951,  0.1037],\n",
       "        [ 0.3463, -0.1913],\n",
       "        [ 0.7887,  0.2467],\n",
       "        [-1.2928, -1.1749],\n",
       "        [-1.2064,  0.1153],\n",
       "        [-0.3509,  0.6386],\n",
       "        [ 0.5382,  0.3538],\n",
       "        [-0.8852, -0.4196],\n",
       "        [ 0.2614,  1.5141],\n",
       "        [-1.1400,  2.2675],\n",
       "        [-1.2250, -2.3851],\n",
       "        [-0.3511,  1.1404],\n",
       "        [ 1.3296, -1.3095],\n",
       "        [-0.2650,  0.5954]], grad_fn=<NativeBatchNormBackward>)"
      ]
     },
     "execution_count": 5,
     "metadata": {},
     "output_type": "execute_result"
    }
   ],
   "source": [
    "m = torch.nn.BatchNorm1d(num_features=2)\n",
    "m(X)"
   ]
  }
 ],
 "metadata": {
  "kernelspec": {
   "display_name": "Python 3",
   "language": "python",
   "name": "python3"
  },
  "language_info": {
   "codemirror_mode": {
    "name": "ipython",
    "version": 3
   },
   "file_extension": ".py",
   "mimetype": "text/x-python",
   "name": "python",
   "nbconvert_exporter": "python",
   "pygments_lexer": "ipython3",
   "version": "3.7.2"
  }
 },
 "nbformat": 4,
 "nbformat_minor": 4
}
