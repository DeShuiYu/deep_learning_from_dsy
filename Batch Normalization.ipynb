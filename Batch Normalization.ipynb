{
 "cells": [
  {
   "cell_type": "markdown",
   "metadata": {},
   "source": [
    "## Batch Normalization\n",
    "***\n",
    "***\n",
    "Time: 2020-09-13<br>\n",
    "Author: dsy\n",
    "***"
   ]
  },
  {
   "cell_type": "markdown",
   "metadata": {},
   "source": [
    "$$\n",
    "\\begin{aligned}\n",
    "   \\mu & = \\frac{1}{m} \\sum_{i=1}^{m}x_i \\\\\n",
    "    \\delta^2 & =\\frac{1}{m}\\sum_{i=1}^{m} (x_i-\\mu)^2 \\\\\n",
    "    \\widehat{x} & = \\frac{x_i - \\mu}{\\sqrt{\\delta^2+\\varepsilon}} \\\\\n",
    "    y_i & = \\gamma \\widehat{x_i} + \\beta \n",
    "\\end{aligned}\n",
    "$$"
   ]
  },
  {
   "cell_type": "code",
   "execution_count": 1,
   "metadata": {},
   "outputs": [],
   "source": [
    "import torch \n",
    "import torch.nn as nn"
   ]
  },
  {
   "cell_type": "code",
   "execution_count": 2,
   "metadata": {},
   "outputs": [],
   "source": [
    "class BatchNorm(nn.Module):\n",
    "    def __init__(self):\n",
    "        super(BatchNorm,self).__init__()\n",
    "\n",
    "    def forward(self,x,ε=torch.FloatTensor([1e-5])):\n",
    "        m,n = x.shape\n",
    "        γ = torch.ones((n,),requires_grad=True)\n",
    "        β = torch.zeros((n,),requires_grad=True)\n",
    "        μ = x.mean(0)\n",
    "        δ2 = x.var(unbiased=False,dim=0)\n",
    "        x_  = torch.zeros((m,n),requires_grad=False)\n",
    "        x_hat= (x-μ)/torch.sqrt(δ2+ε)\n",
    "        y = γ * x_hat + β\n",
    "        return y"
   ]
  },
  {
   "cell_type": "code",
   "execution_count": 3,
   "metadata": {},
   "outputs": [],
   "source": [
    "X= torch.randn(20,2)"
   ]
  },
  {
   "cell_type": "code",
   "execution_count": 4,
   "metadata": {},
   "outputs": [
    {
     "data": {
      "text/plain": [
       "tensor([[-0.5017,  0.2816],\n",
       "        [-0.4308, -0.1322],\n",
       "        [ 1.2706,  0.8774],\n",
       "        [ 0.3236, -1.0021],\n",
       "        [ 0.4976,  1.2546],\n",
       "        [-1.2649, -0.2223],\n",
       "        [-0.3507,  0.0933],\n",
       "        [ 0.6104,  0.6501],\n",
       "        [-0.1881, -1.2474],\n",
       "        [-0.4032, -0.7810],\n",
       "        [ 0.8431,  0.4443],\n",
       "        [-2.1515, -1.6888],\n",
       "        [-0.8546, -0.8153],\n",
       "        [ 1.4395,  1.0034],\n",
       "        [ 1.9803, -0.6473],\n",
       "        [ 0.7783,  2.4893],\n",
       "        [-1.5445, -1.3756],\n",
       "        [ 0.2415,  0.0679],\n",
       "        [-0.4172, -0.0688],\n",
       "        [ 0.1222,  0.8187]], grad_fn=<AddBackward0>)"
      ]
     },
     "execution_count": 4,
     "metadata": {},
     "output_type": "execute_result"
    }
   ],
   "source": [
    "bn = BatchNorm()\n",
    "bn(X)"
   ]
  },
  {
   "cell_type": "code",
   "execution_count": 5,
   "metadata": {},
   "outputs": [
    {
     "data": {
      "text/plain": [
       "tensor([[-0.5017,  0.2816],\n",
       "        [-0.4308, -0.1322],\n",
       "        [ 1.2706,  0.8774],\n",
       "        [ 0.3236, -1.0021],\n",
       "        [ 0.4976,  1.2546],\n",
       "        [-1.2649, -0.2223],\n",
       "        [-0.3507,  0.0933],\n",
       "        [ 0.6104,  0.6501],\n",
       "        [-0.1881, -1.2474],\n",
       "        [-0.4032, -0.7810],\n",
       "        [ 0.8431,  0.4443],\n",
       "        [-2.1515, -1.6888],\n",
       "        [-0.8546, -0.8153],\n",
       "        [ 1.4395,  1.0034],\n",
       "        [ 1.9803, -0.6473],\n",
       "        [ 0.7783,  2.4893],\n",
       "        [-1.5445, -1.3756],\n",
       "        [ 0.2415,  0.0679],\n",
       "        [-0.4172, -0.0688],\n",
       "        [ 0.1222,  0.8187]], grad_fn=<NativeBatchNormBackward>)"
      ]
     },
     "execution_count": 5,
     "metadata": {},
     "output_type": "execute_result"
    }
   ],
   "source": [
    "m = torch.nn.BatchNorm1d(num_features=2)\n",
    "m(X)"
   ]
  }
 ],
 "metadata": {
  "kernelspec": {
   "display_name": "Python 3",
   "language": "python",
   "name": "python3"
  },
  "language_info": {
   "codemirror_mode": {
    "name": "ipython",
    "version": 3
   },
   "file_extension": ".py",
   "mimetype": "text/x-python",
   "name": "python",
   "nbconvert_exporter": "python",
   "pygments_lexer": "ipython3",
   "version": "3.7.2"
  }
 },
 "nbformat": 4,
 "nbformat_minor": 4
}
