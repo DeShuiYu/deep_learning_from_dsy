{
 "cells": [
  {
   "cell_type": "markdown",
   "metadata": {},
   "source": [
    "## Batch Normalization\n",
    "***\n",
    "***\n",
    "Time: 2020-09-13<br>\n",
    "Author: dsy\n",
    "***"
   ]
  },
  {
   "cell_type": "markdown",
   "metadata": {},
   "source": [
    "$$\n",
    "\\begin{aligned}\n",
    "   \\mu & = \\frac{1}{m} \\sum_{i=1}^{m}x_i \\\\\n",
    "    \\delta^2 & =\\frac{1}{m}\\sum_{i=1}^{m} (x_i-\\mu)^2 \\\\\n",
    "    \\widehat{x} & = \\frac{x_i - \\mu}{\\sqrt{\\delta^2+\\varepsilon}} \\\\\n",
    "    y_i & = \\gamma \\widehat{x_i} + \\beta \n",
    "\\end{aligned}\n",
    "$$"
   ]
  },
  {
   "cell_type": "code",
   "execution_count": 1,
   "metadata": {},
   "outputs": [],
   "source": [
    "import torch \n",
    "import torch.nn as nn"
   ]
  },
  {
   "cell_type": "code",
   "execution_count": 2,
   "metadata": {},
   "outputs": [],
   "source": [
    "class BatchNorm(nn.Module):\n",
    "    def __init__(self):\n",
    "        super(BatchNorm,self).__init__()\n",
    "\n",
    "    def forward(self,x,ε=torch.FloatTensor([1e-5])):\n",
    "        m,n = x.shape\n",
    "        γ = torch.ones((n,),requires_grad=True)\n",
    "        β = torch.zeros((n,),requires_grad=True)\n",
    "        μ = x.mean(0)\n",
    "        δ2 = x.var(unbiased=False,dim=0)\n",
    "        x_  = torch.zeros((m,n),requires_grad=False)\n",
    "        x_hat= (x-μ)/torch.sqrt(δ2+ε)\n",
    "        y = γ * x_hat + β\n",
    "        return y"
   ]
  },
  {
   "cell_type": "code",
   "execution_count": 3,
   "metadata": {},
   "outputs": [],
   "source": [
    "X= torch.randn(20,2)"
   ]
  },
  {
   "cell_type": "code",
   "execution_count": 4,
   "metadata": {},
   "outputs": [
    {
     "data": {
      "text/plain": [
       "tensor([[ 0.8043,  0.8656],\n",
       "        [-0.5108, -0.3077],\n",
       "        [ 1.5723, -2.1245],\n",
       "        [-2.3684, -1.6476],\n",
       "        [ 1.8954,  0.6190],\n",
       "        [-0.1591,  1.5455],\n",
       "        [-0.8786,  0.1240],\n",
       "        [-0.6618, -1.1063],\n",
       "        [ 0.0788,  0.0931],\n",
       "        [ 0.7398,  0.7846],\n",
       "        [ 1.5610,  0.4692],\n",
       "        [-0.3709,  0.0417],\n",
       "        [ 0.7704,  0.5878],\n",
       "        [-0.7066,  0.0279],\n",
       "        [-1.2971,  0.5585],\n",
       "        [ 0.1738, -0.7924],\n",
       "        [-0.3485, -0.9162],\n",
       "        [-0.2430,  1.0089],\n",
       "        [ 0.1582, -1.3142],\n",
       "        [-0.2092,  1.4831]], grad_fn=<AddBackward0>)"
      ]
     },
     "execution_count": 4,
     "metadata": {},
     "output_type": "execute_result"
    }
   ],
   "source": [
    "bn = BatchNorm()\n",
    "bn(X)"
   ]
  },
  {
   "cell_type": "code",
   "execution_count": 5,
   "metadata": {},
   "outputs": [
    {
     "data": {
      "text/plain": [
       "tensor([[ 0.8043,  0.8656],\n",
       "        [-0.5108, -0.3077],\n",
       "        [ 1.5723, -2.1245],\n",
       "        [-2.3684, -1.6476],\n",
       "        [ 1.8954,  0.6190],\n",
       "        [-0.1591,  1.5455],\n",
       "        [-0.8786,  0.1240],\n",
       "        [-0.6618, -1.1063],\n",
       "        [ 0.0788,  0.0931],\n",
       "        [ 0.7398,  0.7846],\n",
       "        [ 1.5610,  0.4692],\n",
       "        [-0.3709,  0.0417],\n",
       "        [ 0.7704,  0.5878],\n",
       "        [-0.7066,  0.0279],\n",
       "        [-1.2971,  0.5585],\n",
       "        [ 0.1738, -0.7924],\n",
       "        [-0.3485, -0.9162],\n",
       "        [-0.2430,  1.0089],\n",
       "        [ 0.1582, -1.3142],\n",
       "        [-0.2092,  1.4831]], grad_fn=<NativeBatchNormBackward>)"
      ]
     },
     "execution_count": 5,
     "metadata": {},
     "output_type": "execute_result"
    }
   ],
   "source": [
    "m = torch.nn.BatchNorm1d(num_features=2)\n",
    "m(X)"
   ]
  }
 ],
 "metadata": {
  "kernelspec": {
   "display_name": "Python 3",
   "language": "python",
   "name": "python3"
  },
  "language_info": {
   "codemirror_mode": {
    "name": "ipython",
    "version": 3
   },
   "file_extension": ".py",
   "mimetype": "text/x-python",
   "name": "python",
   "nbconvert_exporter": "python",
   "pygments_lexer": "ipython3",
   "version": "3.7.2"
  }
 },
 "nbformat": 4,
 "nbformat_minor": 4
}
