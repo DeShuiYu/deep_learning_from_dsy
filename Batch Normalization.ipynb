{
 "cells": [
  {
   "cell_type": "markdown",
   "metadata": {},
   "source": [
    "## Batch Normalization\n",
    "***\n",
    "***\n",
    "Time: 2020-09-13<br>\n",
    "Author: dsy\n",
    "***"
   ]
  },
  {
   "cell_type": "markdown",
   "metadata": {},
   "source": [
    "$$\n",
    "\\begin{aligned}\n",
    "   \\mu & = \\frac{1}{m} \\sum_{i=1}^{m}x_i \\\\\n",
    "    \\delta^2 & =\\frac{1}{m}\\sum_{i=1}^{m} (x_i-\\mu)^2 \\\\\n",
    "    \\widehat{x} & = \\frac{x_i - \\mu}{\\sqrt{\\delta^2+\\varepsilon}} \\\\\n",
    "    y_i & = \\gamma \\widehat{x_i} + \\beta \n",
    "\\end{aligned}\n",
    "$$"
   ]
  },
  {
   "cell_type": "code",
   "execution_count": 1,
   "metadata": {},
   "outputs": [],
   "source": [
    "import torch \n",
    "import torch.nn as nn"
   ]
  },
  {
   "cell_type": "code",
   "execution_count": 2,
   "metadata": {},
   "outputs": [],
   "source": [
    "class BatchNorm(nn.Module):\n",
    "    def __init__(self):\n",
    "        super(BatchNorm,self).__init__()\n",
    "\n",
    "    def forward(self,x,ε=torch.FloatTensor([1e-5])):\n",
    "        m,n = x.shape\n",
    "        γ = torch.ones((n,),requires_grad=True)\n",
    "        β = torch.zeros((n,),requires_grad=True)\n",
    "        μ = x.mean(0)\n",
    "        δ2 = x.var(unbiased=False,dim=0)\n",
    "        x_  = torch.zeros((m,n),requires_grad=False)\n",
    "        x_hat= (x-μ)/torch.sqrt(δ2+ε)\n",
    "        y = γ * x_hat + β\n",
    "        return y"
   ]
  },
  {
   "cell_type": "code",
   "execution_count": 3,
   "metadata": {},
   "outputs": [],
   "source": [
    "X= torch.randn(20,2)"
   ]
  },
  {
   "cell_type": "code",
   "execution_count": 4,
   "metadata": {},
   "outputs": [
    {
     "data": {
      "text/plain": [
       "tensor([[ 1.5681, -1.0148],\n",
       "        [ 0.8762,  0.0139],\n",
       "        [ 0.0438,  0.0716],\n",
       "        [ 1.3257,  1.4825],\n",
       "        [ 1.1726, -1.6369],\n",
       "        [ 0.1631,  0.5499],\n",
       "        [-1.4837, -0.8993],\n",
       "        [ 1.0030, -0.0864],\n",
       "        [ 0.0990,  0.7460],\n",
       "        [-0.5302,  1.0345],\n",
       "        [ 0.7375, -0.0285],\n",
       "        [-1.7991,  0.0074],\n",
       "        [-1.4507, -0.3399],\n",
       "        [ 0.4097,  0.7083],\n",
       "        [ 0.0430, -0.0239],\n",
       "        [-1.5444, -0.3842],\n",
       "        [ 0.5889,  1.8864],\n",
       "        [-1.1418,  0.6800],\n",
       "        [ 0.0596, -0.2152],\n",
       "        [-0.1404, -2.5512]], grad_fn=<AddBackward0>)"
      ]
     },
     "execution_count": 4,
     "metadata": {},
     "output_type": "execute_result"
    }
   ],
   "source": [
    "bn = BatchNorm()\n",
    "bn(X)"
   ]
  },
  {
   "cell_type": "code",
   "execution_count": 5,
   "metadata": {},
   "outputs": [
    {
     "data": {
      "text/plain": [
       "tensor([[ 1.5681, -1.0148],\n",
       "        [ 0.8762,  0.0139],\n",
       "        [ 0.0438,  0.0716],\n",
       "        [ 1.3257,  1.4825],\n",
       "        [ 1.1726, -1.6369],\n",
       "        [ 0.1631,  0.5499],\n",
       "        [-1.4837, -0.8993],\n",
       "        [ 1.0030, -0.0864],\n",
       "        [ 0.0990,  0.7460],\n",
       "        [-0.5302,  1.0345],\n",
       "        [ 0.7375, -0.0285],\n",
       "        [-1.7991,  0.0074],\n",
       "        [-1.4507, -0.3399],\n",
       "        [ 0.4097,  0.7083],\n",
       "        [ 0.0430, -0.0239],\n",
       "        [-1.5444, -0.3842],\n",
       "        [ 0.5889,  1.8864],\n",
       "        [-1.1418,  0.6800],\n",
       "        [ 0.0596, -0.2152],\n",
       "        [-0.1404, -2.5512]], grad_fn=<NativeBatchNormBackward>)"
      ]
     },
     "execution_count": 5,
     "metadata": {},
     "output_type": "execute_result"
    }
   ],
   "source": [
    "m = torch.nn.BatchNorm1d(num_features=2)\n",
    "m(X)"
   ]
  }
 ],
 "metadata": {
  "kernelspec": {
   "display_name": "Python 3",
   "language": "python",
   "name": "python3"
  },
  "language_info": {
   "codemirror_mode": {
    "name": "ipython",
    "version": 3
   },
   "file_extension": ".py",
   "mimetype": "text/x-python",
   "name": "python",
   "nbconvert_exporter": "python",
   "pygments_lexer": "ipython3",
   "version": "3.7.2"
  }
 },
 "nbformat": 4,
 "nbformat_minor": 4
}
