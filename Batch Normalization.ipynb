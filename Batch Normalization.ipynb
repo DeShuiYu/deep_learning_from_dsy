{
 "cells": [
  {
   "cell_type": "markdown",
   "metadata": {},
   "source": [
    "## Batch Normalization\n",
    "***\n",
    "***\n",
    "Time: 2020-09-13<br>\n",
    "Author: dsy\n",
    "***"
   ]
  },
  {
   "cell_type": "markdown",
   "metadata": {},
   "source": [
    "$$\n",
    "\\begin{aligned}\n",
    "   \\mu & = \\frac{1}{m} \\sum_{i=1}^{m}x_i \\\\\n",
    "    \\delta^2 & =\\frac{1}{m}\\sum_{i=1}^{m} (x_i-\\mu)^2 \\\\\n",
    "    \\widehat{x} & = \\frac{x_i - \\mu}{\\sqrt{\\delta^2+\\varepsilon}} \\\\\n",
    "    y_i & = \\gamma \\widehat{x_i} + \\beta \n",
    "\\end{aligned}\n",
    "$$"
   ]
  },
  {
   "cell_type": "code",
   "execution_count": null,
   "metadata": {},
   "outputs": [],
   "source": [
    "import torch \n",
    "import torch.nn as nn"
   ]
  },
  {
   "cell_type": "code",
   "execution_count": null,
   "metadata": {},
   "outputs": [],
   "source": [
    "class BatchNorm(nn.Module):\n",
    "    def __init__(self):\n",
    "        super(BatchNorm,self).__init__()\n",
    "\n",
    "    def forward(self,x,ε=torch.FloatTensor([1e-5])):\n",
    "        m,n = x.shape\n",
    "        γ = torch.ones((m,m),requires_grad=True)\n",
    "        β = torch.zeros((m,n),requires_grad=True)\n",
    "\n",
    "        μ = x.mean(1)\n",
    "        δ2 = x.var(unbiased=False,dim=1)\n",
    "        \n",
    "        x_  = torch.zeros((m,n),requires_grad=False)\n",
    "        \n",
    "        for i in range(m):\n",
    "            for j in range(n):\n",
    "                x_[i][j] = (x[i][j] - μ[i]) / torch.sqrt(δ2 + ε)[i]\n",
    "\n",
    "        \n",
    "\n",
    "        y = γ * x_ + β\n",
    "        \n",
    "        y.backward()\n",
    "\n",
    "        return (y)"
   ]
  },
  {
   "cell_type": "code",
   "execution_count": null,
   "metadata": {},
   "outputs": [],
   "source": [
    "X = torch.Tensor([\n",
    "    [1,2],\n",
    "    [3,4]\n",
    "])\n",
    "X"
   ]
  },
  {
   "cell_type": "code",
   "execution_count": null,
   "metadata": {},
   "outputs": [],
   "source": [
    "bn = BatchNorm()\n",
    "bn"
   ]
  },
  {
   "cell_type": "code",
   "execution_count": null,
   "metadata": {},
   "outputs": [],
   "source": [
    "bn(X)"
   ]
  }
 ],
 "metadata": {
  "kernelspec": {
   "display_name": "Python 3",
   "language": "python",
   "name": "python3"
  },
  "language_info": {
   "codemirror_mode": {
    "name": "ipython",
    "version": 3
   },
   "file_extension": ".py",
   "mimetype": "text/x-python",
   "name": "python",
   "nbconvert_exporter": "python",
   "pygments_lexer": "ipython3",
   "version": "3.7.2"
  }
 },
 "nbformat": 4,
 "nbformat_minor": 4
}
