{
 "cells": [
  {
   "cell_type": "markdown",
   "metadata": {},
   "source": [
    "## `Bert`\n",
    "***\n",
    "***\n",
    "Time: 2020-09-14<br>\n",
    "Author: dsy <br>\n",
    "Notes: [BERT源码分析（PART I）](https://mp.weixin.qq.com/s?__biz=MzI4MDYzNzg4Mw==&mid=2247491946&idx=5&sn=6274262ae8ca22a32195863c6fe368c0&chksm=ebb7d9bedcc050a8066db747b24bf2c8517ec2bd641682bb59708b3d8b11e46ff6440d560001&mpshare=1&scene=23&srcid=0914uwJfgw0lGrp7mJtAWwKG&sharer_sharetime=1600052402819&sharer_shareid=7ea5c15a13f4f0977d4dd7d336f6780f#rd)，[BERT源码分析（PART II）](https://mp.weixin.qq.com/s?__biz=MzI4MDYzNzg4Mw==&mid=2247491946&idx=6&sn=5fa477071c373e5060d238c487a36185&chksm=ebb7d9bedcc050a81a629fcd2b1e98ccf249dfd862076dad74c9c69c0c4391124dc5e9290874&mpshare=1&scene=23&srcid=0914I3y0KrsTMj3Y4GgDb9L7&sharer_sharetime=1600052449763&sharer_shareid=7ea5c15a13f4f0977d4dd7d336f6780f#rd)，[BERT源码分析（PART III）](https://mp.weixin.qq.com/s?__biz=MzI4MDYzNzg4Mw==&mid=2247491946&idx=7&sn=d4c9c552ae54fda1a2dc0bd6dcc7382e&chksm=ebb7d9bedcc050a89ff9c9690691af577ff7ba49f876be72e26fead72eb5d30296951e207285&mpshare=1&scene=23&srcid=0914IwKCvi8Yi2CNeQwS1cex&sharer_sharetime=1600052466318&sharer_shareid=7ea5c15a13f4f0977d4dd7d336f6780f#rd)，[BERT 的 PyTorch 实现](https://wmathor.com/index.php/archives/1457/)\n",
    "***"
   ]
  },
  {
   "cell_type": "markdown",
   "metadata": {},
   "source": [
    "![bert](./imgs/bert.png)"
   ]
  },
  {
   "cell_type": "markdown",
   "metadata": {},
   "source": [
    "网上代码看懂了，但是还没自己实现。。。"
   ]
  },
  {
   "cell_type": "markdown",
   "metadata": {},
   "source": [
    "再需要几天来解决这个情况。。。"
   ]
  }
 ],
 "metadata": {
  "kernelspec": {
   "display_name": "Python 3",
   "language": "python",
   "name": "python3"
  },
  "language_info": {
   "codemirror_mode": {
    "name": "ipython",
    "version": 3
   },
   "file_extension": ".py",
   "mimetype": "text/x-python",
   "name": "python",
   "nbconvert_exporter": "python",
   "pygments_lexer": "ipython3",
   "version": "3.7.2"
  }
 },
 "nbformat": 4,
 "nbformat_minor": 4
}
