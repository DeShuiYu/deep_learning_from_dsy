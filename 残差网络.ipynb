{
 "cells": [
  {
   "cell_type": "markdown",
   "metadata": {},
   "source": [
    "## 残差网络\n",
    "***\n",
    "***\n",
    "Time: 2020-06-16<br>\n",
    "Author: dsy\n",
    "***"
   ]
  },
  {
   "cell_type": "markdown",
   "metadata": {},
   "source": [
    "![残差网络](./imgs/残差网络.png)"
   ]
  },
  {
   "cell_type": "markdown",
   "metadata": {},
   "source": [
    "$h(x)= \\mathbf{Rule}\\big(f(x) + x \\big)$\n",
    "\n",
    "理解： 对于输入`x`，经过了一系列的`f(x)`操作后，再加上x，进入激活函数`Rule`"
   ]
  },
  {
   "cell_type": "code",
   "execution_count": 1,
   "metadata": {},
   "outputs": [],
   "source": [
    "import torch\n",
    "import torch.nn as nn"
   ]
  },
  {
   "cell_type": "code",
   "execution_count": 2,
   "metadata": {},
   "outputs": [],
   "source": [
    "class ResNet(nn.Module):\n",
    "    def __init__(self):\n",
    "        super(ResNet,self).__init__()\n",
    "        \n",
    "    def forward(self,x):\n",
    "        m,n = x.shape\n",
    "        seq = nn.Sequential(\n",
    "            nn.Sigmoid(),\n",
    "            nn.Tanh(),\n",
    "            nn.Linear(n,n)\n",
    "        )\n",
    "        f = seq(x)\n",
    "        return nn.functional.relu(f+x, inplace=False)"
   ]
  },
  {
   "cell_type": "code",
   "execution_count": 3,
   "metadata": {},
   "outputs": [
    {
     "data": {
      "text/plain": [
       "tensor([[0.3086, 0.2168, 0.4849, 0.8472],\n",
       "        [0.4100, 0.0959, 0.9415, 0.6968],\n",
       "        [0.2639, 0.4201, 0.3340, 0.5075]])"
      ]
     },
     "execution_count": 3,
     "metadata": {},
     "output_type": "execute_result"
    }
   ],
   "source": [
    "X = torch.rand((3,4))\n",
    "X"
   ]
  },
  {
   "cell_type": "code",
   "execution_count": 4,
   "metadata": {},
   "outputs": [],
   "source": [
    "resnet = ResNet()"
   ]
  },
  {
   "cell_type": "code",
   "execution_count": 5,
   "metadata": {},
   "outputs": [
    {
     "data": {
      "text/plain": [
       "tensor([[0.4387, 0.0000, 0.9932, 0.2652],\n",
       "        [0.5434, 0.0000, 1.4215, 0.1021],\n",
       "        [0.4256, 0.0000, 0.8413, 0.0000]], grad_fn=<ReluBackward0>)"
      ]
     },
     "execution_count": 5,
     "metadata": {},
     "output_type": "execute_result"
    }
   ],
   "source": [
    "resnet(X)"
   ]
  }
 ],
 "metadata": {
  "kernelspec": {
   "display_name": "Python 3",
   "language": "python",
   "name": "python3"
  },
  "language_info": {
   "codemirror_mode": {
    "name": "ipython",
    "version": 3
   },
   "file_extension": ".py",
   "mimetype": "text/x-python",
   "name": "python",
   "nbconvert_exporter": "python",
   "pygments_lexer": "ipython3",
   "version": "3.7.2"
  }
 },
 "nbformat": 4,
 "nbformat_minor": 4
}
