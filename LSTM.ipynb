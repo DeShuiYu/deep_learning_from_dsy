{
 "cells": [
  {
   "cell_type": "markdown",
   "metadata": {},
   "source": [
    "## `LSTM`\n",
    "***\n",
    "***\n",
    "Time: 2020-09-14<br>\n",
    "Author: dsy\n",
    "***"
   ]
  },
  {
   "cell_type": "markdown",
   "metadata": {},
   "source": [
    "![LSTM](./imgs/LSTM.png)"
   ]
  },
  {
   "cell_type": "markdown",
   "metadata": {},
   "source": [
    "$$\n",
    "\\begin{aligned}\n",
    "c_t &= f_t \\odot c_{t-1} + i_t \\odot \\tilde{c_t} \\\\\n",
    "h_t &= \\omicron_t \\odot \\tanh(c_t)\\\\\n",
    "\\tilde{c_t} &= \\tanh(W_c x_t + U_c h_{t-1} + b_c)\\\\\n",
    "i_t &= \\sigma(W_ix_t + U_ih_{t-1}+b_i) \\\\\n",
    "f_t &= \\sigma(W_fx_t + U_fh_{t-1}+b_f) \\\\\n",
    "\\omicron_t &= \\sigma(W_\\omicron x_t+U_\\omicron h_{t-1} + b_\\omicron)\n",
    "\\end{aligned}\n",
    "$$"
   ]
  },
  {
   "cell_type": "code",
   "execution_count": 1,
   "metadata": {},
   "outputs": [],
   "source": [
    "import torch\n",
    "import torch.nn as nn"
   ]
  },
  {
   "cell_type": "code",
   "execution_count": 2,
   "metadata": {},
   "outputs": [],
   "source": [
    "class LSTMFromDsy2(nn.Module):\n",
    "    def __init__(self):\n",
    "        super(LSTMFromDsy2,self).__init__()\n",
    "    def wub(self):\n",
    "        W = torch.rand(1,requires_grad=True)\n",
    "        U = torch.rand(1,requires_grad=True)\n",
    "        b = torch.rand(1,requires_grad=True)\n",
    "        return W,U,b\n",
    "    \n",
    "    def forward(self,x):\n",
    "        m,n = x.shape\n",
    "        \n",
    "        wi,ui,bi = self.wub()\n",
    "        wf,uf,bf = self.wub()\n",
    "        wo,uo,bo = self.wub()\n",
    "        wch,uch,bch = self.wub()\n",
    "        \n",
    "        ct = torch.zeros((m,n+1),requires_grad=False)\n",
    "        ht = torch.zeros((m,n+1),requires_grad=False)\n",
    "        \n",
    "        \n",
    "        for i in range(m):\n",
    "            for j in range(n):\n",
    "                ct_hat = torch.tanh(wch * x[i][j] + uch * ht[i][j] + bch)\n",
    "                it = torch.sigmoid(wi * x[i][j] + ui * ht[i][j] + bi)\n",
    "                ft = torch.sigmoid(wf * x[i][j] + uf * ht[i][j] + bf)\n",
    "                ot = torch.sigmoid(wo * x[i][j] + uo * ht[i][j] + bo)\n",
    "                ct[i][j+1] = ft * ct[i][j] + it * ct_hat\n",
    "                ht[i][j+ 1] = ot * torch.tanh(ct[i][j+1])\n",
    "                \n",
    "        return ct[:,1:],ht[:,1:]\n",
    "        "
   ]
  },
  {
   "cell_type": "code",
   "execution_count": 3,
   "metadata": {},
   "outputs": [
    {
     "data": {
      "text/plain": [
       "tensor([[ 0.7357,  1.3949,  0.0956, -0.2546],\n",
       "        [ 0.7246, -0.4216, -0.5635, -0.3912],\n",
       "        [ 0.9221, -0.6590,  0.9428, -0.2178],\n",
       "        [-0.4692,  0.1325, -1.4172, -0.8113]])"
      ]
     },
     "execution_count": 3,
     "metadata": {},
     "output_type": "execute_result"
    }
   ],
   "source": [
    "X = torch.randn((4,4))\n",
    "X"
   ]
  },
  {
   "cell_type": "code",
   "execution_count": 4,
   "metadata": {},
   "outputs": [],
   "source": [
    "lstmfd2 = LSTMFromDsy2()\n",
    "ct,ht = lstmfd2(X)"
   ]
  },
  {
   "cell_type": "code",
   "execution_count": 5,
   "metadata": {},
   "outputs": [
    {
     "data": {
      "text/plain": [
       "tensor([[0.3991, 0.8497, 1.0377, 1.0834],\n",
       "        [0.3984, 0.5952, 0.7042, 0.8172],\n",
       "        [0.4118, 0.5642, 0.9567, 1.0358],\n",
       "        [0.3119, 0.6136, 0.5323, 0.6150]], grad_fn=<SliceBackward>)"
      ]
     },
     "execution_count": 5,
     "metadata": {},
     "output_type": "execute_result"
    }
   ],
   "source": [
    "ct"
   ]
  },
  {
   "cell_type": "code",
   "execution_count": 6,
   "metadata": {},
   "outputs": [
    {
     "data": {
      "text/plain": [
       "tensor([[0.2542, 0.4833, 0.5628, 0.5820],\n",
       "        [0.2537, 0.3731, 0.4324, 0.4841],\n",
       "        [0.2614, 0.3577, 0.5281, 0.5659],\n",
       "        [0.2025, 0.3791, 0.3472, 0.3885]], grad_fn=<SliceBackward>)"
      ]
     },
     "execution_count": 6,
     "metadata": {},
     "output_type": "execute_result"
    }
   ],
   "source": [
    "ht"
   ]
  },
  {
   "cell_type": "code",
   "execution_count": 7,
   "metadata": {},
   "outputs": [],
   "source": [
    "# 以前的实现想法\n",
    "class LSTMFromDsy(nn.Module):\n",
    "    def __init__(self):\n",
    "        super(LSTMFromDsy,self).__init__()\n",
    "        \n",
    "    def wub(self):\n",
    "        W = torch.rand((self.m,self.m),requires_grad=True)\n",
    "        U = torch.rand((self.m,self.m),requires_grad=True)\n",
    "        b = torch.rand((self.m,self.n),requires_grad=True)\n",
    "        return W,U,b\n",
    "    \n",
    "    def forward(self,x):\n",
    "        '''\n",
    "        x 形如:[[1,2,3]]\n",
    "        '''\n",
    "        self.m,self.n = x.shape\n",
    "        \n",
    "        ht = torch.zeros((self.m,self.n))\n",
    "        ct = torch.zeros((self.m,self.n))\n",
    "        \n",
    "        Wi,Ui,bi = self.wub()\n",
    "        Wf,Uf,bf = self.wub()\n",
    "        Wo,Uo,bo = self.wub()\n",
    "        \n",
    "        it = torch.sigmoid(Wi .matmul(x)+Ui.matmul(ht) + bi)\n",
    "        ft = torch.sigmoid(Wf .matmul(x)+Uf.matmul(ht) + bf)\n",
    "        ot = torch.sigmoid(Wo .matmul(x)+Uo.matmul(ht) + bo)\n",
    "        \n",
    "        c_t_hat = torch.tanh(ot.matmul(ct))\n",
    "        ct = ft.matmul(ct) + it.matmul(c_t_hat) \n",
    "        ht = ot.matmul(ct)\n",
    "        \n",
    "        return ct,ht"
   ]
  }
 ],
 "metadata": {
  "kernelspec": {
   "display_name": "Python 3",
   "language": "python",
   "name": "python3"
  },
  "language_info": {
   "codemirror_mode": {
    "name": "ipython",
    "version": 3
   },
   "file_extension": ".py",
   "mimetype": "text/x-python",
   "name": "python",
   "nbconvert_exporter": "python",
   "pygments_lexer": "ipython3",
   "version": "3.7.2"
  }
 },
 "nbformat": 4,
 "nbformat_minor": 4
}
