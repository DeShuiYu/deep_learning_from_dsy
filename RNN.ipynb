{
 "cells": [
  {
   "cell_type": "markdown",
   "metadata": {},
   "source": [
    "## `RNN`\n",
    "***\n",
    "***\n",
    "Time: 2020-09-13<br>\n",
    "Author: dsy\n",
    "***"
   ]
  },
  {
   "cell_type": "markdown",
   "metadata": {},
   "source": [
    "$\n",
    "\\begin{aligned}\n",
    "z_t & = Uh_{t-1} + Wx_t+b \\\\\n",
    "h_t & = f(z_t) \\\\\n",
    "y_t & = Vh_t \\\\\n",
    "x_t \\text{是网络的输入}，h_t \\text{隐藏层状态}，z_t \\text{隐藏层的净输入}，& f(\\cdot) \\text{\n",
    "是非线性激活函数，通常为Logistic函数或者Tanh函数}，U \\text{状态-状态权重矩阵},W \\text{状态-输入权重矩阵},b\\text{为偏置}\n",
    "\\end{aligned}\n",
    "$"
   ]
  },
  {
   "cell_type": "code",
   "execution_count": 1,
   "metadata": {},
   "outputs": [],
   "source": [
    "import torch\n",
    "import torch.nn as nn"
   ]
  },
  {
   "cell_type": "code",
   "execution_count": 2,
   "metadata": {},
   "outputs": [],
   "source": [
    "class RNNFromDsy(nn.Module):\n",
    "    def __init__(self,hidden_size=10):\n",
    "        super(RNNFromDsy,self).__init__()\n",
    "        self.hidden_size = hidden_size\n",
    "        \n",
    "    def forward(self,x):\n",
    "        # batch 最好是1\n",
    "        self.batch,self.input_size = x.shape\n",
    "        ht = torch.zeros((self.batch,self.input_size))\n",
    "        U = torch.empty((self.batch,self.batch),requires_grad=True)\n",
    "        W = torch.empty((self.batch,self.batch),requires_grad=True)\n",
    "        b = torch.empty((self.batch,self.input_size),requires_grad=True)\n",
    "        V = torch.empty((self.batch,self.batch),requires_grad=True)\n",
    "        nn.init.uniform_(U)\n",
    "        nn.init.uniform_(W)\n",
    "        nn.init.uniform_(b)\n",
    "        nn.init.uniform_(V)\n",
    "        for i in range(self.hidden_size):\n",
    "            ht = torch.tanh( U.matmul(ht) + W.matmul( x) + b)\n",
    "        return V .matmul(ht)\n"
   ]
  },
  {
   "cell_type": "code",
   "execution_count": 3,
   "metadata": {},
   "outputs": [],
   "source": [
    "X = torch.randn((1,1,4))"
   ]
  },
  {
   "cell_type": "code",
   "execution_count": 4,
   "metadata": {},
   "outputs": [
    {
     "data": {
      "text/plain": [
       "tensor([[ 0.6201, -1.0239,  0.3520,  0.0545]])"
      ]
     },
     "execution_count": 4,
     "metadata": {},
     "output_type": "execute_result"
    }
   ],
   "source": [
    "X[0]"
   ]
  },
  {
   "cell_type": "code",
   "execution_count": 5,
   "metadata": {},
   "outputs": [
    {
     "data": {
      "text/plain": [
       "tensor([[ 0.3146, -0.2658,  0.3719,  0.0487]], grad_fn=<MmBackward>)"
      ]
     },
     "execution_count": 5,
     "metadata": {},
     "output_type": "execute_result"
    }
   ],
   "source": [
    "rnnd = RNNFromDsy()\n",
    "rnnd(X[0])"
   ]
  },
  {
   "cell_type": "code",
   "execution_count": 6,
   "metadata": {},
   "outputs": [
    {
     "data": {
      "text/plain": [
       "tensor([[[-0.3538,  0.5373,  0.0080,  0.3380, -0.0278,  0.0677, -0.0126,\n",
       "          -0.5869,  0.1034,  0.0157]]], grad_fn=<TransposeBackward1>)"
      ]
     },
     "execution_count": 6,
     "metadata": {},
     "output_type": "execute_result"
    }
   ],
   "source": [
    "rnn = nn.RNN(input_size =4 , hidden_size =10,batch_first=True,bidirectional=False)\n",
    "y,h = rnn(X)\n",
    "y"
   ]
  }
 ],
 "metadata": {
  "kernelspec": {
   "display_name": "Python 3",
   "language": "python",
   "name": "python3"
  },
  "language_info": {
   "codemirror_mode": {
    "name": "ipython",
    "version": 3
   },
   "file_extension": ".py",
   "mimetype": "text/x-python",
   "name": "python",
   "nbconvert_exporter": "python",
   "pygments_lexer": "ipython3",
   "version": "3.7.2"
  }
 },
 "nbformat": 4,
 "nbformat_minor": 4
}
