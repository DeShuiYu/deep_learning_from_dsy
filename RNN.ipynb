{
 "cells": [
  {
   "cell_type": "markdown",
   "metadata": {},
   "source": [
    "## `RNN`\n",
    "***\n",
    "***\n",
    "Time: 2020-09-13<br>\n",
    "Author: dsy\n",
    "***"
   ]
  },
  {
   "cell_type": "markdown",
   "metadata": {},
   "source": [
    "$\n",
    "\\begin{aligned}\n",
    "z_t & = Uh_{t-1} + Wx_t+b \\\\\n",
    "h_t & = f(z_t) \\\\\n",
    "y_t & = Vh_t \\\\\n",
    "x_t \\text{是网络的输入}，h_t \\text{隐藏层状态}，z_t \\text{隐藏层的净输入}，& f(\\cdot) \\text{\n",
    "是非线性激活函数，通常为Logistic函数或者Tanh函数}，U \\text{状态-状态权重矩阵},W \\text{状态-输入权重矩阵},b\\text{为偏置}\n",
    "\\end{aligned}\n",
    "$"
   ]
  },
  {
   "cell_type": "code",
   "execution_count": 1,
   "metadata": {},
   "outputs": [],
   "source": [
    "import torch\n",
    "import torch.nn as nn\n",
    "from torch.nn.parameter import Parameter"
   ]
  },
  {
   "cell_type": "code",
   "execution_count": 2,
   "metadata": {},
   "outputs": [
    {
     "data": {
      "text/plain": [
       "<torch._C.Generator at 0x211083702e8>"
      ]
     },
     "execution_count": 2,
     "metadata": {},
     "output_type": "execute_result"
    }
   ],
   "source": [
    "seed = 0\n",
    "torch.manual_seed(seed)\n",
    "torch.random.manual_seed(seed)"
   ]
  },
  {
   "cell_type": "code",
   "execution_count": 3,
   "metadata": {},
   "outputs": [],
   "source": [
    "class RNNReal(nn.Module):\n",
    "    def __init__(self, hidden_size: int, bias: bool = True, nonlinearity: str = 'tanh'):\n",
    "        super(RNNReal,self).__init__()\n",
    "        self.hidden_size = hidden_size\n",
    "        self.bias = bias\n",
    "        self.nonlinearity = nonlinearity\n",
    "        \n",
    "    def forward(self,input):\n",
    "        input_size = input.size(1)\n",
    "        \n",
    "        weight_ih = Parameter(torch.Tensor( self.hidden_size, input_size))\n",
    "        weight_hh = Parameter(torch.Tensor( self.hidden_size, self.hidden_size))\n",
    "        bias_ih = Parameter(torch.Tensor( self.hidden_size))\n",
    "        bias_hh = Parameter(torch.Tensor( self.hidden_size))\n",
    "        \n",
    "        import math\n",
    "        stdv = 1.0 / math.sqrt(self.hidden_size)\n",
    "        nn.init.uniform_(weight_ih, -stdv, stdv)\n",
    "        nn.init.uniform_(weight_hh, -stdv, stdv)\n",
    "        nn.init.uniform_(bias_ih, -stdv, stdv)\n",
    "        nn.init.uniform_(bias_hh, -stdv, stdv)\n",
    "\n",
    "        hx = torch.zeros(input.size(0), self.hidden_size, dtype=input.dtype\n",
    "                         , device=input.device\n",
    "                        )\n",
    "        igates = torch.mm(input, weight_ih.t()) + bias_ih\n",
    "        hgates = torch.mm(hx, weight_hh.t()) + bias_hh\n",
    "        \n",
    "        return torch.tanh(igates + hgates)"
   ]
  },
  {
   "cell_type": "markdown",
   "metadata": {},
   "source": [
    "参考了`Pytorch`中[RNNCell](https://pytorch.org/docs/stable/_modules/torch/nn/modules/rnn.html#RNNCell)的源码，并写下了如上的代码"
   ]
  },
  {
   "cell_type": "code",
   "execution_count": 4,
   "metadata": {},
   "outputs": [
    {
     "data": {
      "text/plain": [
       "tensor([[  1.0000,   3.5385,   6.0769,   8.6154],\n",
       "        [ 11.1538,  13.6923,  16.2308,  18.7692],\n",
       "        [ 21.3077,  23.8462,  26.3846,  28.9231],\n",
       "        [ 31.4615,  34.0000,  36.5385,  39.0769],\n",
       "        [ 41.6154,  44.1538,  46.6923,  49.2308],\n",
       "        [ 51.7692,  54.3077,  56.8462,  59.3846],\n",
       "        [ 61.9231,  64.4615,  67.0000,  69.5385],\n",
       "        [ 72.0769,  74.6154,  77.1538,  79.6923],\n",
       "        [ 82.2308,  84.7692,  87.3077,  89.8462],\n",
       "        [ 92.3846,  94.9231,  97.4615, 100.0000]])"
      ]
     },
     "execution_count": 4,
     "metadata": {},
     "output_type": "execute_result"
    }
   ],
   "source": [
    "data = torch.linspace(1,100,40).reshape((10,4))\n",
    "data"
   ]
  },
  {
   "cell_type": "code",
   "execution_count": 5,
   "metadata": {},
   "outputs": [
    {
     "data": {
      "text/plain": [
       "tensor([[-0.9995,  0.9993, -0.6410, -0.9888, -0.9710],\n",
       "        [-1.0000,  1.0000, -0.9770, -1.0000, -0.9900],\n",
       "        [-1.0000,  1.0000, -0.9988, -1.0000, -0.9966],\n",
       "        [-1.0000,  1.0000, -0.9999, -1.0000, -0.9988],\n",
       "        [-1.0000,  1.0000, -1.0000, -1.0000, -0.9996],\n",
       "        [-1.0000,  1.0000, -1.0000, -1.0000, -0.9999],\n",
       "        [-1.0000,  1.0000, -1.0000, -1.0000, -1.0000],\n",
       "        [-1.0000,  1.0000, -1.0000, -1.0000, -1.0000],\n",
       "        [-1.0000,  1.0000, -1.0000, -1.0000, -1.0000],\n",
       "        [-1.0000,  1.0000, -1.0000, -1.0000, -1.0000]], grad_fn=<TanhBackward>)"
      ]
     },
     "execution_count": 5,
     "metadata": {},
     "output_type": "execute_result"
    }
   ],
   "source": [
    "rnnreal = RNNReal(hidden_size=5, bias = True, nonlinearity = 'tanh')\n",
    "output1 = rnnreal(data)\n",
    "output1"
   ]
  },
  {
   "cell_type": "code",
   "execution_count": 6,
   "metadata": {},
   "outputs": [
    {
     "data": {
      "text/plain": [
       "tensor([[-0.9997, -0.6290,  0.2617,  0.5288,  1.0000],\n",
       "        [-1.0000, -0.9558,  0.9989,  1.0000,  1.0000],\n",
       "        [-1.0000, -0.9955,  1.0000,  1.0000,  1.0000],\n",
       "        [-1.0000, -0.9996,  1.0000,  1.0000,  1.0000],\n",
       "        [-1.0000, -1.0000,  1.0000,  1.0000,  1.0000],\n",
       "        [-1.0000, -1.0000,  1.0000,  1.0000,  1.0000],\n",
       "        [-1.0000, -1.0000,  1.0000,  1.0000,  1.0000],\n",
       "        [-1.0000, -1.0000,  1.0000,  1.0000,  1.0000],\n",
       "        [-1.0000, -1.0000,  1.0000,  1.0000,  1.0000],\n",
       "        [-1.0000, -1.0000,  1.0000,  1.0000,  1.0000]], grad_fn=<TanhBackward>)"
      ]
     },
     "execution_count": 6,
     "metadata": {},
     "output_type": "execute_result"
    }
   ],
   "source": [
    "rnncell = torch.nn.RNNCell(input_size = 4, hidden_size = 5, bias = True, nonlinearity = 'tanh')\n",
    "output2 = rnncell(data) \n",
    "output2"
   ]
  },
  {
   "cell_type": "code",
   "execution_count": 7,
   "metadata": {},
   "outputs": [
    {
     "data": {
      "text/plain": [
       "Parameter containing:\n",
       "tensor([[-0.2633,  0.0833, -0.3467, -0.3100],\n",
       "        [-0.2310,  0.2024,  0.1799, -0.2649],\n",
       "        [ 0.1351,  0.2455, -0.0564,  0.0171],\n",
       "        [ 0.1036,  0.2774,  0.4294, -0.3446],\n",
       "        [-0.1639,  0.1758,  0.3705,  0.3892]], requires_grad=True)"
      ]
     },
     "execution_count": 7,
     "metadata": {},
     "output_type": "execute_result"
    }
   ],
   "source": [
    "rnncell.weight_ih"
   ]
  },
  {
   "cell_type": "code",
   "execution_count": 8,
   "metadata": {},
   "outputs": [
    {
     "data": {
      "text/plain": [
       "Parameter containing:\n",
       "tensor([[ 0.3946,  0.0890, -0.3889,  0.0411, -0.2798],\n",
       "        [-0.4168,  0.3973,  0.3400, -0.4461,  0.0837],\n",
       "        [-0.0753, -0.0736, -0.2047,  0.1720, -0.2649],\n",
       "        [ 0.1639,  0.2262,  0.3201,  0.1672, -0.4426],\n",
       "        [-0.2901,  0.2233,  0.0936, -0.3489, -0.2575]], requires_grad=True)"
      ]
     },
     "execution_count": 8,
     "metadata": {},
     "output_type": "execute_result"
    }
   ],
   "source": [
    "rnncell.weight_hh "
   ]
  },
  {
   "cell_type": "code",
   "execution_count": 9,
   "metadata": {},
   "outputs": [
    {
     "data": {
      "text/plain": [
       "Parameter containing:\n",
       "tensor([ 0.4207,  0.3013, -0.1950, -0.1126, -0.4260], requires_grad=True)"
      ]
     },
     "execution_count": 9,
     "metadata": {},
     "output_type": "execute_result"
    }
   ],
   "source": [
    "rnncell.bias_ih"
   ]
  },
  {
   "cell_type": "code",
   "execution_count": 10,
   "metadata": {},
   "outputs": [
    {
     "data": {
      "text/plain": [
       "Parameter containing:\n",
       "tensor([-0.0080, -0.3368, -0.3450, -0.0246,  0.0671], requires_grad=True)"
      ]
     },
     "execution_count": 10,
     "metadata": {},
     "output_type": "execute_result"
    }
   ],
   "source": [
    "rnncell.bias_hh "
   ]
  }
 ],
 "metadata": {
  "kernelspec": {
   "display_name": "Python 3",
   "language": "python",
   "name": "python3"
  },
  "language_info": {
   "codemirror_mode": {
    "name": "ipython",
    "version": 3
   },
   "file_extension": ".py",
   "mimetype": "text/x-python",
   "name": "python",
   "nbconvert_exporter": "python",
   "pygments_lexer": "ipython3",
   "version": "3.7.2"
  }
 },
 "nbformat": 4,
 "nbformat_minor": 4
}
