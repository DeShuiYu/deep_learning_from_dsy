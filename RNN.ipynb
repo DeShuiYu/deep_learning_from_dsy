{
 "cells": [
  {
   "cell_type": "markdown",
   "metadata": {},
   "source": [
    "## `RNN`\n",
    "***\n",
    "***\n",
    "Time: 2020-09-13<br>\n",
    "Author: dsy\n",
    "***"
   ]
  },
  {
   "cell_type": "markdown",
   "metadata": {},
   "source": [
    "$\n",
    "\\begin{aligned}\n",
    "z_t & = Uh_{t-1} + Wx_t+b \\\\\n",
    "h_t & = f(z_t) \\\\\n",
    "y_t & = Vh_t \\\\\n",
    "x_t \\text{是网络的输入}，h_t \\text{隐藏层状态}，z_t \\text{隐藏层的净输入}，f(\\cdot) \\text{\n",
    "是非线性激活函数，通常为Logistic函数或者Tanh函数}，U \\text{状态-状态权重矩阵},W \\text{状态-输入权重矩阵},b\\text{为偏置}\n",
    "\\end{aligned}\n",
    "$"
   ]
  },
  {
   "cell_type": "code",
   "execution_count": null,
   "metadata": {},
   "outputs": [],
   "source": [
    "import torch\n",
    "import torch.nn as nn"
   ]
  },
  {
   "cell_type": "code",
   "execution_count": null,
   "metadata": {},
   "outputs": [],
   "source": [
    "class RNNFromDsy(nn.Module):\n",
    "    def __init__(self,hidden_size=10):\n",
    "        super(RNNFromDsy,self).__init__()\n",
    "        self.hidden_size = hidden_size\n",
    "        \n",
    "    def forward(self,x):\n",
    "        self.batch,self.input_size = x.shape\n",
    "        ht = torch.zeros((self.batch,self.hidden_size))\n",
    "        U = ((self.hidden_size,self.hidden_size))\n",
    "        W = torch.empty(self.hidden_size,requires_grad=True)\n",
    "        b = torch.empty(self.hidden_size,requires_grad=True)\n",
    "        V = torch.empty(self.batch,self.batch,requires_grad=True)\n",
    "        nn.init.uniform_(W)\n",
    "        nn.init.uniform_(b)\n",
    "        nn.init.uniform_(V)\n",
    "        for i in range(self.hidden_size):\n",
    "            ht = nn.functional.tanh(U * ht + W * x + b)\n",
    "            print(V * ht)\n"
   ]
  },
  {
   "cell_type": "code",
   "execution_count": null,
   "metadata": {},
   "outputs": [],
   "source": [
    "rnn = nn.RNN(input_size =128 , hidden_size =10,batch_first=True,bidirectional=False)\n",
    "rnn"
   ]
  },
  {
   "cell_type": "code",
   "execution_count": null,
   "metadata": {},
   "outputs": [],
   "source": [
    "rnnd = RNNFromDsy()\n",
    "rnnd(torch.randn((65,128)))"
   ]
  },
  {
   "cell_type": "code",
   "execution_count": null,
   "metadata": {},
   "outputs": [],
   "source": [
    "X = torch.randn((32,64,128)) # seq_len 32, batch 64, input_size 128\n",
    "X.shape"
   ]
  }
 ],
 "metadata": {
  "kernelspec": {
   "display_name": "Python 3",
   "language": "python",
   "name": "python3"
  },
  "language_info": {
   "codemirror_mode": {
    "name": "ipython",
    "version": 3
   },
   "file_extension": ".py",
   "mimetype": "text/x-python",
   "name": "python",
   "nbconvert_exporter": "python",
   "pygments_lexer": "ipython3",
   "version": "3.7.2"
  }
 },
 "nbformat": 4,
 "nbformat_minor": 4
}
